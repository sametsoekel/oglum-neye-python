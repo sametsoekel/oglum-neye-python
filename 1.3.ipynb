{
 "cells": [
  {
   "cell_type": "markdown",
   "id": "240fd0cb-4834-4764-9abb-13c3fc4c2532",
   "metadata": {},
   "source": [
    "# Decision Statements"
   ]
  },
  {
   "cell_type": "markdown",
   "id": "33dcbc11-ff08-43d5-a644-c14eafb67fad",
   "metadata": {},
   "source": [
    "We've learnt how to do logical tests. We can use the outputs of logical tests in conditional operatoins via decision statements.\n",
    "\n",
    "Here is an example;"
   ]
  },
  {
   "cell_type": "code",
   "execution_count": 1,
   "id": "33f3706f-3aaf-4780-aa62-54d4e25bd365",
   "metadata": {},
   "outputs": [
    {
     "name": "stdout",
     "output_type": "stream",
     "text": [
      "True\n"
     ]
    }
   ],
   "source": [
    "a = 2\n",
    "b = 3\n",
    "\n",
    "print(a<b)"
   ]
  },
  {
   "cell_type": "markdown",
   "id": "f3cbae7a-5c54-4065-bd2d-f775b71e2229",
   "metadata": {},
   "source": [
    "Now we can use it in a conditional decision with `if` statement;"
   ]
  },
  {
   "cell_type": "code",
   "execution_count": 2,
   "id": "3827d204-ab0c-4cdf-a4df-8fc37e23e483",
   "metadata": {},
   "outputs": [
    {
     "name": "stdout",
     "output_type": "stream",
     "text": [
      "Aman oğlum hadi ya\n"
     ]
    }
   ],
   "source": [
    "if a < b:\n",
    "    print('Aman oğlum hadi ya')"
   ]
  },
  {
   "cell_type": "markdown",
   "id": "e79fd9d1-dcb8-4f15-9c67-574d169781ac",
   "metadata": {},
   "source": [
    "it works well, but what if I serve an incorrect expression ?"
   ]
  },
  {
   "cell_type": "code",
   "execution_count": 3,
   "id": "132faef7-429a-4403-89f8-3e211f8b6ba0",
   "metadata": {},
   "outputs": [],
   "source": [
    "if a > b:\n",
    "    print('Aman oğlum hadi ya')"
   ]
  },
  {
   "cell_type": "markdown",
   "id": "e9f9f73d-f28e-4257-8ba6-c4335e50ac4f",
   "metadata": {},
   "source": [
    "Says nothing, we can do operations using `else` statement when the condition is not met."
   ]
  },
  {
   "cell_type": "code",
   "execution_count": 4,
   "id": "49acf3b3-1df8-41e3-8848-61ef17032e07",
   "metadata": {},
   "outputs": [
    {
     "name": "stdout",
     "output_type": "stream",
     "text": [
      "Bırak bu işleri\n"
     ]
    }
   ],
   "source": [
    "if a > b:\n",
    "    print('Aman oğlum hadi ya')\n",
    "else:\n",
    "    print('Bırak bu işleri')"
   ]
  },
  {
   "cell_type": "markdown",
   "id": "e3f22e45-f571-4521-a99c-c16288d0dd81",
   "metadata": {},
   "source": [
    "----------------------------"
   ]
  },
  {
   "cell_type": "markdown",
   "id": "b2d40162-ab44-405a-afb3-db800cb4920e",
   "metadata": {},
   "source": [
    "## Task : "
   ]
  },
  {
   "cell_type": "code",
   "execution_count": 9,
   "id": "d574a15a-16c4-4d7a-a647-e4a24d23b41e",
   "metadata": {},
   "outputs": [],
   "source": [
    "import math\n",
    "\n",
    "pi = 3.14159265359\n",
    "degree = 90"
   ]
  },
  {
   "cell_type": "markdown",
   "id": "77a8c3a1-07a0-4edd-b3cc-cab16aba4194",
   "metadata": {},
   "source": [
    "Imagine a program that tries to calculate sinus 90 (**degrees**), but the sinus function accepts inputs as **radians**. All we know that sinus 90 is equal to 1. Write an if~else statement which tries to calculate sinus(90) which should be equal to 1 and prints the calculation, but if it doesn't be equal to 1, it should convert 90 degrees to radians unit in else statement and prints the output.\n",
    "\n",
    "Hint : \n",
    "\n",
    "- 360 degrees = 2*$\\pi$ radians\n",
    "\n",
    "- math.sin(x) function can be used to get sinus of x "
   ]
  },
  {
   "cell_type": "code",
   "execution_count": 6,
   "id": "92a4fae9-82bb-46a2-84b0-20f99979a060",
   "metadata": {},
   "outputs": [],
   "source": [
    "## Çözümünüzü buraya alalım"
   ]
  },
  {
   "cell_type": "code",
   "execution_count": null,
   "id": "311aac87-f8e1-4d3d-9a28-ba6f903509d9",
   "metadata": {},
   "outputs": [],
   "source": []
  }
 ],
 "metadata": {
  "kernelspec": {
   "display_name": "Python 3",
   "language": "python",
   "name": "python3"
  },
  "language_info": {
   "codemirror_mode": {
    "name": "ipython",
    "version": 3
   },
   "file_extension": ".py",
   "mimetype": "text/x-python",
   "name": "python",
   "nbconvert_exporter": "python",
   "pygments_lexer": "ipython3",
   "version": "3.8.8"
  }
 },
 "nbformat": 4,
 "nbformat_minor": 5
}
