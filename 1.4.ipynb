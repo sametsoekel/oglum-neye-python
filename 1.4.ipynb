{
 "cells": [
  {
   "cell_type": "markdown",
   "id": "b1760888-a4a3-4d85-9fad-34a5a4a745a2",
   "metadata": {},
   "source": [
    "## If - Else Statements - Extended"
   ]
  },
  {
   "cell_type": "code",
   "execution_count": 6,
   "id": "8f746e9e-e79f-4ed1-8ed4-fb452cf25a92",
   "metadata": {},
   "outputs": [
    {
     "name": "stdout",
     "output_type": "stream",
     "text": [
      "HICBIR SART SAGLANAMADI\n"
     ]
    }
   ],
   "source": [
    "a = 2\n",
    "b = 5\n",
    "\n",
    "if a == b*2:\n",
    "    print('SART 1')\n",
    "elif a == b:\n",
    "    print('SART 2')\n",
    "elif a == b/2:\n",
    "    print('SART 3')\n",
    "else:\n",
    "    print('HICBIR SART SAGLANAMADI')"
   ]
  },
  {
   "cell_type": "markdown",
   "id": "b1520831-9339-4670-8eb9-624053570169",
   "metadata": {},
   "source": [
    "## Loops"
   ]
  },
  {
   "cell_type": "markdown",
   "id": "e7ba4792-ebe6-403e-9d55-242b4855cefd",
   "metadata": {},
   "source": [
    "### For Loop"
   ]
  },
  {
   "cell_type": "markdown",
   "id": "f6bb773a-732f-45bb-b9d1-0a2ba521a859",
   "metadata": {},
   "source": [
    "Code Golf:\n",
    "\n",
    "for i in bişeyler:<br>\n",
    "&nbsp;&nbsp;&nbsp;&nbsp;&nbsp;&nbsp;&nbsp;print(i)"
   ]
  },
  {
   "cell_type": "code",
   "execution_count": 7,
   "id": "bf0a85b5-14a0-4a3d-9977-734b1fb71d4b",
   "metadata": {},
   "outputs": [],
   "source": [
    "import numpy as np"
   ]
  },
  {
   "cell_type": "code",
   "execution_count": 9,
   "id": "028dff32-ab47-43e3-beb0-698477eda4aa",
   "metadata": {},
   "outputs": [
    {
     "data": {
      "text/plain": [
       "array([ 1,  2,  3,  4,  5,  6,  7,  8,  9, 10])"
      ]
     },
     "execution_count": 9,
     "metadata": {},
     "output_type": "execute_result"
    }
   ],
   "source": [
    "array1 = np.array([1,2,3,4,5,6,7,8,9,10])\n",
    "array1"
   ]
  },
  {
   "cell_type": "markdown",
   "id": "f0615869-1b7e-4a6b-aa34-bf87ab252179",
   "metadata": {},
   "source": [
    "Usage :"
   ]
  },
  {
   "cell_type": "code",
   "execution_count": 13,
   "id": "b69875c0-6830-43d8-ba65-98a8ede9822e",
   "metadata": {},
   "outputs": [
    {
     "name": "stdout",
     "output_type": "stream",
     "text": [
      "1\n",
      "4\n",
      "9\n",
      "16\n",
      "25\n",
      "36\n",
      "49\n",
      "64\n",
      "81\n",
      "100\n"
     ]
    }
   ],
   "source": [
    "for i in array1:\n",
    "    print(i**2)"
   ]
  },
  {
   "cell_type": "markdown",
   "id": "d7a0004f-3428-4ad0-b846-34d156db246a",
   "metadata": {},
   "source": [
    "Code Golf 2 :"
   ]
  },
  {
   "cell_type": "code",
   "execution_count": 17,
   "id": "b4223cdb-df2a-4db3-9876-d8f066f9bf61",
   "metadata": {},
   "outputs": [
    {
     "data": {
      "text/plain": [
       "array([ 1,  2,  3,  4,  5,  6,  7,  8,  9, 10, 11, 12, 13, 14, 15, 16, 17,\n",
       "       18, 19, 20])"
      ]
     },
     "execution_count": 17,
     "metadata": {},
     "output_type": "execute_result"
    }
   ],
   "source": [
    "okmeydani = np.array([1,2,3,4,5,6,7,8,9,10,11,12,13,14,15,16,17,18,19,20])\n",
    "okmeydani"
   ]
  },
  {
   "cell_type": "markdown",
   "id": "06dd18b2-d10a-410f-b27e-52e1bbba17e2",
   "metadata": {},
   "source": [
    "Task :\n",
    "\n",
    "Write a for loop which turns around \"okmeydani\" and checks ability for dividing 2 for each element of \"okmeydani\""
   ]
  },
  {
   "cell_type": "code",
   "execution_count": 32,
   "id": "52f15312-74d6-4d0f-be15-ad3d99b5f98b",
   "metadata": {},
   "outputs": [
    {
     "name": "stdout",
     "output_type": "stream",
     "text": [
      "1 is an odd number\n",
      "2 is an even number\n",
      "3 is an odd number\n",
      "4 is an even number\n",
      "5 is an odd number\n",
      "6 is an even number\n",
      "7 is an odd number\n",
      "8 is an even number\n",
      "9 is an odd number\n",
      "10 is an even number\n",
      "11 is an odd number\n",
      "12 is an even number\n",
      "13 is an odd number\n",
      "14 is an even number\n",
      "15 is an odd number\n",
      "16 is an even number\n",
      "17 is an odd number\n",
      "18 is an even number\n",
      "19 is an odd number\n",
      "20 is an even number\n"
     ]
    }
   ],
   "source": [
    "for i in okmeydani:\n",
    "    if (i % 2) == 0:\n",
    "        print(str(i) + ' is an even number')\n",
    "    else:\n",
    "        print(str(i) + ' is an odd number')"
   ]
  },
  {
   "cell_type": "markdown",
   "id": "e7fa837b-0bec-40ad-b964-76ac6e075271",
   "metadata": {},
   "source": [
    "### Task 2:\n",
    "\n",
    "1 - Check the following array at first (whose name is \"sark_yokusu\"); \n",
    "\n",
    "\n",
    "2 - Write a for loop which checks the array and if the current element of array is \"A\" print \"A harfi alfabenin ilk harfi\"\n",
    "\n",
    "3 - if the current element of array is \"B\" print \"B harfi alfabenin ikinci harfi\"\n",
    "\n",
    "4 - if the current element of array is not \"A\" neither \"B\" print \"x alfabenin dandik bir harfi\"\n",
    "\n"
   ]
  },
  {
   "cell_type": "code",
   "execution_count": 35,
   "id": "97b6df2b-4316-4c0f-9c55-7bf00fb39dde",
   "metadata": {},
   "outputs": [
    {
     "data": {
      "text/plain": [
       "['A',\n",
       " 'B',\n",
       " 'C',\n",
       " 'D',\n",
       " 'E',\n",
       " 'F',\n",
       " 'G',\n",
       " 'H',\n",
       " 'I',\n",
       " 'J',\n",
       " 'K',\n",
       " 'L',\n",
       " 'M',\n",
       " 'N',\n",
       " 'O',\n",
       " 'P',\n",
       " 'Q',\n",
       " 'R',\n",
       " 'S',\n",
       " 'T',\n",
       " 'U',\n",
       " 'V',\n",
       " 'W',\n",
       " 'X',\n",
       " 'Y',\n",
       " 'Z']"
      ]
     },
     "execution_count": 35,
     "metadata": {},
     "output_type": "execute_result"
    }
   ],
   "source": [
    "import string\n",
    "\n",
    "sark_yokusu = list(string.ascii_uppercase)\n",
    "\n",
    "sark_yokusu"
   ]
  },
  {
   "cell_type": "code",
   "execution_count": 41,
   "id": "fd6722df-55aa-4dc7-a3b9-c45dd1252499",
   "metadata": {},
   "outputs": [
    {
     "name": "stdout",
     "output_type": "stream",
     "text": [
      "A harfi alfabenin ilk harfi\n",
      "B harfi alfabenin ikinci harfi\n",
      "C alfabenin dandik bir harfi\n",
      "D alfabenin dandik bir harfi\n",
      "E alfabenin dandik bir harfi\n",
      "F alfabenin dandik bir harfi\n",
      "G alfabenin dandik bir harfi\n",
      "H alfabenin dandik bir harfi\n",
      "I alfabenin dandik bir harfi\n",
      "J alfabenin dandik bir harfi\n",
      "K alfabenin dandik bir harfi\n",
      "L alfabenin dandik bir harfi\n",
      "M alfabenin dandik bir harfi\n",
      "N alfabenin dandik bir harfi\n",
      "O alfabenin dandik bir harfi\n",
      "P alfabenin dandik bir harfi\n",
      "Q alfabenin dandik bir harfi\n",
      "R alfabenin dandik bir harfi\n",
      "S alfabenin dandik bir harfi\n",
      "T alfabenin dandik bir harfi\n",
      "U alfabenin dandik bir harfi\n",
      "V alfabenin dandik bir harfi\n",
      "W alfabenin dandik bir harfi\n",
      "X alfabenin dandik bir harfi\n",
      "Y alfabenin dandik bir harfi\n",
      "Z alfabenin dandik bir harfi\n"
     ]
    }
   ],
   "source": [
    "for i in sark_yokusu:\n",
    "    if (i=='A'):\n",
    "        print('A harfi alfabenin ilk harfi')\n",
    "    elif (i=='B'):\n",
    "        print('B harfi alfabenin ikinci harfi')\n",
    "    else:\n",
    "        print(str(i) + ' alfabenin dandik bir harfi')\n"
   ]
  },
  {
   "cell_type": "markdown",
   "id": "3c2ca0f2-6f85-49ce-9d50-8b94ec543ce5",
   "metadata": {},
   "source": [
    "### While Loop"
   ]
  }
 ],
 "metadata": {
  "kernelspec": {
   "display_name": "Python 3",
   "language": "python",
   "name": "python3"
  },
  "language_info": {
   "codemirror_mode": {
    "name": "ipython",
    "version": 3
   },
   "file_extension": ".py",
   "mimetype": "text/x-python",
   "name": "python",
   "nbconvert_exporter": "python",
   "pygments_lexer": "ipython3",
   "version": "3.8.8"
  }
 },
 "nbformat": 4,
 "nbformat_minor": 5
}
