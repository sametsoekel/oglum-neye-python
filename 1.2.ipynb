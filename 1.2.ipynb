{
 "cells": [
  {
   "cell_type": "markdown",
   "id": "919ea8d0-852a-4302-9e8d-ef2b17271d3c",
   "metadata": {},
   "source": [
    "Hint : checking equality among left hand side and right hand side ;"
   ]
  },
  {
   "cell_type": "code",
   "execution_count": 1,
   "id": "15954301-fa00-4889-bbc9-e0750a1eca3a",
   "metadata": {},
   "outputs": [
    {
     "data": {
      "text/plain": [
       "2"
      ]
     },
     "execution_count": 1,
     "metadata": {},
     "output_type": "execute_result"
    }
   ],
   "source": [
    "2"
   ]
  },
  {
   "cell_type": "code",
   "execution_count": 4,
   "id": "733c0603-4dd9-4634-aba9-dffac12676f6",
   "metadata": {},
   "outputs": [
    {
     "name": "stdout",
     "output_type": "stream",
     "text": [
      "True\n",
      "False\n",
      "False\n",
      "True\n"
     ]
    }
   ],
   "source": [
    "logical_check1 = 2 == 2\n",
    "logical_check2 = 2 == 3\n",
    "logical_check3 = 2 > 3\n",
    "logical_check4 = 2 < 3\n",
    "\n",
    "print(logical_check1)\n",
    "print(logical_check2)\n",
    "print(logical_check3)\n",
    "print(logical_check4)"
   ]
  },
  {
   "cell_type": "code",
   "execution_count": 6,
   "id": "7ff84174-cc58-494f-9bac-a4a7b60ff61a",
   "metadata": {},
   "outputs": [],
   "source": [
    "import math\n",
    "\n",
    "\n",
    "x = 2 \n",
    "y = math.sqrt(2)\n",
    "z = 2**2\n",
    "\n"
   ]
  },
  {
   "cell_type": "markdown",
   "id": "d605b7cd-4544-4157-ac0a-0c5a60eae9af",
   "metadata": {},
   "source": [
    "Question : Prove that the 4th power of square root of two equals to 4. (Using the above variables approved only.)"
   ]
  },
  {
   "cell_type": "code",
   "execution_count": 11,
   "id": "9c461095-98e8-4a1e-a628-d7ce2fa97ed4",
   "metadata": {},
   "outputs": [
    {
     "name": "stdout",
     "output_type": "stream",
     "text": [
      "True\n"
     ]
    }
   ],
   "source": [
    "a = y**4\n",
    "\n",
    "logical_check5 = int(a) == z\n",
    "\n",
    "print(logical_check5)"
   ]
  },
  {
   "cell_type": "code",
   "execution_count": 10,
   "id": "caefbd19-a542-4518-8942-acc3b21b08c7",
   "metadata": {},
   "outputs": [
    {
     "name": "stdout",
     "output_type": "stream",
     "text": [
      "4\n"
     ]
    }
   ],
   "source": [
    "print(int(a))\n"
   ]
  }
 ],
 "metadata": {
  "kernelspec": {
   "display_name": "Python 3",
   "language": "python",
   "name": "python3"
  },
  "language_info": {
   "codemirror_mode": {
    "name": "ipython",
    "version": 3
   },
   "file_extension": ".py",
   "mimetype": "text/x-python",
   "name": "python",
   "nbconvert_exporter": "python",
   "pygments_lexer": "ipython3",
   "version": "3.8.8"
  }
 },
 "nbformat": 4,
 "nbformat_minor": 5
}
